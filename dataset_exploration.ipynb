{
  "cells": [
    {
      "cell_type": "code",
      "execution_count": null,
      "metadata": {
        "id": "ECGjcmBQ3SuN"
      },
      "outputs": [],
      "source": [
        "%pip install -q opendatasets\n",
        "\n",
        "import opendatasets as od\n",
        "import pandas as pd"
      ]
    },
    {
      "cell_type": "code",
      "execution_count": null,
      "metadata": {
        "id": "iJRb64gL3SuO"
      },
      "outputs": [],
      "source": [
        " # insert ypu kaggle  username and key\n",
        "od.download('https://www.kaggle.com/datasets/paramaggarwal/fashion-product-images-small',data_dir=\"dataset\")"
      ]
    },
    {
      "cell_type": "code",
      "execution_count": null,
      "metadata": {
        "id": "-RN2zpB5CEom"
      },
      "outputs": [],
      "source": [
        "df = pd.read_csv('/content/dataset/fashion-product-images-small/styles.csv', on_bad_lines='skip')\n",
        "df.head()"
      ]
    },
    {
      "cell_type": "code",
      "execution_count": null,
      "metadata": {
        "id": "KvxqT2RPCHNF"
      },
      "outputs": [],
      "source": [
        "sample_df = df.sample(n=2000, random_state=0)\n",
        "sample_df.head()"
      ]
    },
    {
      "cell_type": "code",
      "execution_count": null,
      "metadata": {
        "id": "PlcuIRmWCNdg"
      },
      "outputs": [],
      "source": [
        "sample_df.describe()"
      ]
    },
    {
      "cell_type": "code",
      "execution_count": null,
      "metadata": {
        "id": "lh6niVaACN2J"
      },
      "outputs": [],
      "source": [
        "df.describe()"
      ]
    },
    {
      "cell_type": "code",
      "execution_count": null,
      "metadata": {
        "id": "rYWjPIdaCQxq"
      },
      "outputs": [],
      "source": [
        "%pip install sweetviz\n",
        "import sweetviz as sv"
      ]
    },
    {
      "cell_type": "code",
      "execution_count": null,
      "metadata": {
        "id": "TIm7VnrzCSfi"
      },
      "outputs": [],
      "source": [
        "sample_report = sv.analyze(sample_df, pairwise_analysis=\"on\")"
      ]
    },
    {
      "cell_type": "code",
      "execution_count": null,
      "metadata": {
        "id": "WcgyINIYCUBg"
      },
      "outputs": [],
      "source": [
        "sample_report.show_html(layout='vertical')"
      ]
    }
  ],
  "metadata": {
    "colab": {
      "provenance": []
    },
    "kernelspec": {
      "display_name": "Python 3",
      "name": "python3"
    },
    "language_info": {
      "name": "python",
      "version": "3.11.7"
    }
  },
  "nbformat": 4,
  "nbformat_minor": 0
}
