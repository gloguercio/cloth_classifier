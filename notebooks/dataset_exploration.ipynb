{
  "cells": [
    {
      "cell_type": "code",
      "execution_count": null,
      "metadata": {
        "id": "ECGjcmBQ3SuN"
      },
      "outputs": [],
      "source": [
        "!pip install -q opendatasets\n",
        "\n",
        "import opendatasets as od\n",
        "import pandas as pd"
      ]
    },
    {
      "cell_type": "code",
      "execution_count": null,
      "metadata": {
        "id": "iJRb64gL3SuO"
      },
      "outputs": [],
      "source": [
        " # insert ypu kaggle  username and key\n",
        "od.download('https://www.kaggle.com/datasets/paramaggarwal/fashion-product-images-small',data_dir=\"dataset\")"
      ]
    }
  ],
  "metadata": {
    "language_info": {
      "name": "python"
    },
    "colab": {
      "provenance": []
    },
    "kernelspec": {
      "name": "python3",
      "display_name": "Python 3"
    }
  },
  "nbformat": 4,
  "nbformat_minor": 0
}