{
  "cells": [
    {
      "cell_type": "code",
      "execution_count": null,
      "metadata": {
        "id": "ECGjcmBQ3SuN"
      },
      "outputs": [],
      "source": [
        "!pip install -q opendatasets\n",
        "\n",
        "import opendatasets as od\n",
        "import pandas as pd"
      ]
    },
    {
      "cell_type": "code",
      "execution_count": null,
      "metadata": {
        "id": "iJRb64gL3SuO"
      },
      "outputs": [],
      "source": [
        " # insert ypu kaggle  username and key\n",
        "od.download('https://www.kaggle.com/datasets/paramaggarwal/fashion-product-images-small',data_dir=\"dataset\")"
      ]
    },
    {
      "cell_type": "code",
      "source": [
        "df = pd.read_csv('/content/dataset/fashion-product-images-small/styles.csv', on_bad_lines='skip')\n",
        "df.head()"
      ],
      "metadata": {
        "id": "-RN2zpB5CEom"
      },
      "execution_count": null,
      "outputs": []
    },
    {
      "cell_type": "code",
      "source": [
        "sample_df = df.sample(n=2000, random_state=0)\n",
        "sample_df.head()"
      ],
      "metadata": {
        "id": "KvxqT2RPCHNF"
      },
      "execution_count": null,
      "outputs": []
    },
    {
      "cell_type": "code",
      "source": [
        "sample_df.describe()"
      ],
      "metadata": {
        "id": "PlcuIRmWCNdg"
      },
      "execution_count": null,
      "outputs": []
    },
    {
      "cell_type": "code",
      "source": [
        "df.describe()"
      ],
      "metadata": {
        "id": "lh6niVaACN2J"
      },
      "execution_count": null,
      "outputs": []
    },
    {
      "cell_type": "code",
      "source": [
        "!pip install sweetviz\n",
        "import sweetviz as sv"
      ],
      "metadata": {
        "id": "rYWjPIdaCQxq"
      },
      "execution_count": null,
      "outputs": []
    },
    {
      "cell_type": "code",
      "source": [
        "sample_report = sv.analyze(sample_df, pairwise_analysis=\"on\")"
      ],
      "metadata": {
        "id": "TIm7VnrzCSfi"
      },
      "execution_count": null,
      "outputs": []
    },
    {
      "cell_type": "code",
      "source": [
        "sample_report.show_html(layout='vertical')"
      ],
      "metadata": {
        "id": "WcgyINIYCUBg"
      },
      "execution_count": null,
      "outputs": []
    }
  ],
  "metadata": {
    "language_info": {
      "name": "python"
    },
    "colab": {
      "provenance": []
    },
    "kernelspec": {
      "name": "python3",
      "display_name": "Python 3"
    }
  },
  "nbformat": 4,
  "nbformat_minor": 0
}